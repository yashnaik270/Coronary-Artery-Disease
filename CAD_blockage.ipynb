{
  "nbformat": 4,
  "nbformat_minor": 0,
  "metadata": {
    "colab": {
      "provenance": [],
      "mount_file_id": "1KF4YzSPAszsidsrXR_iIn8MZuAfS_04p",
      "authorship_tag": "ABX9TyMyz1XfDXGXMI+sUZyZU0T4",
      "include_colab_link": true
    },
    "kernelspec": {
      "name": "python3",
      "display_name": "Python 3"
    },
    "language_info": {
      "name": "python"
    }
  },
  "cells": [
    {
      "cell_type": "markdown",
      "metadata": {
        "id": "view-in-github",
        "colab_type": "text"
      },
      "source": [
        "<a href=\"https://colab.research.google.com/github/yashnaik270/Coronary-Artery-Disease/blob/main/CAD_blockage.ipynb\" target=\"_parent\"><img src=\"https://colab.research.google.com/assets/colab-badge.svg\" alt=\"Open In Colab\"/></a>"
      ]
    },
    {
      "cell_type": "code",
      "execution_count": 1,
      "metadata": {
        "id": "_f9PUFajJEc7"
      },
      "outputs": [],
      "source": [
        "import pandas as pd\n",
        "from sklearn.preprocessing import MinMaxScaler\n",
        "\n",
        "# Load the dataset\n",
        "data = pd.read_csv(\"/content/drive/MyDrive/CAD_augmented.csv\")\n",
        "\n",
        "import numpy as np\n",
        "\n",
        "data['Blockage (%)'] = (\n",
        "    data['BP '] * 0.08 +\n",
        "    (100 - data['EF-TTE']) * 0.1 +\n",
        "    data['St Depression'] * 5 +\n",
        "    data['St Elevation'] * 5 +\n",
        "    data['Q Wave'] * 3 +\n",
        "    data['Tinversion'] * 3 +\n",
        "    data['Region RWMA'] * 5 +\n",
        "    data['CR'] * 0.1 +\n",
        "    data['TG'] * 0.05 +\n",
        "    (50 - data['HDL']) * 0.08 +\n",
        "    data['HTN'] * 5 +\n",
        "    data['DM'] * 5 +\n",
        "    data['age'] * 0.05\n",
        ")\n",
        "\n",
        "# Normalize between 0-100\n",
        "from sklearn.preprocessing import MinMaxScaler\n",
        "scaler = MinMaxScaler(feature_range=(0, 100))\n",
        "data['Blockage (%)'] = scaler.fit_transform(data[['Blockage (%)']])\n",
        "\n",
        "# Correction based on Cath label\n",
        "data.loc[data['Cath'] == 0, 'Blockage (%)'] = data.loc[data['Cath'] == 0, 'Blockage (%)'].apply(lambda x: np.clip(x, 10, 49))\n",
        "data.loc[data['Cath'] == 1, 'Blockage (%)'] = data.loc[data['Cath'] == 1, 'Blockage (%)'].apply(lambda x: np.clip(x, 50, 95))\n",
        "\n",
        "\n",
        "# # Save the updated dataset\n",
        "# data.to_csv(\"CAD_augmented_with_blockage.csv\", index=False)\n",
        "\n",
        "# from google.colab import files\n",
        "# files.download('CAD_augmented_with_blockage.csv')\n"
      ]
    },
    {
      "cell_type": "code",
      "source": [
        "def label_severity(b):\n",
        "    if b < 30: return 'Mild'\n",
        "    elif b < 70: return 'Moderate'\n",
        "    else: return 'Severe'\n",
        "\n",
        "data['CAD Severity'] = data['Blockage (%)'].apply(label_severity)\n"
      ],
      "metadata": {
        "id": "FZDZ0G96LJhw"
      },
      "execution_count": 2,
      "outputs": []
    },
    {
      "cell_type": "code",
      "source": [
        "import pandas as pd\n",
        "from sklearn.model_selection import train_test_split\n",
        "from xgboost import XGBRegressor\n",
        "from sklearn.metrics import mean_absolute_error, r2_score\n",
        "\n",
        "# Step 1: Load dataset\n",
        "data = pd.read_csv(\"/content/drive/MyDrive/CAD_augmented_with_blockage.csv\")  # Use your downloaded file path\n",
        "\n",
        "# Step 2: Split features (X) and target (y)\n",
        "X = data.drop(columns=['Blockage (%)','Cath'])  # Features only\n",
        "y = data['Blockage (%)']  # Target\n",
        "\n",
        "# Step 3: Train-test split (80-20)\n",
        "X_train, X_test, y_train, y_test = train_test_split(X, y, test_size=0.2, random_state=42)\n",
        "\n",
        "# Step 4: Train model\n",
        "model = XGBRegressor()\n",
        "model.fit(X_train, y_train)\n",
        "\n",
        "# Step 5: Predict and evaluate\n",
        "y_pred = model.predict(X_test)\n",
        "\n",
        "mae = mean_absolute_error(y_test, y_pred)\n",
        "r2 = r2_score(y_test, y_pred)\n",
        "print(\" XGBoost Regressor Results\")\n",
        "print(f\" Mean Absolute Error: {mae:.2f}\")\n",
        "print(f\" R² Score: {r2:.4f}\")\n",
        "\n",
        "# Predict on training and testing sets\n",
        "y_train_pred = model.predict(X_train)\n",
        "y_test_pred = model.predict(X_test)\n",
        "\n",
        "# Define accuracy as predictions within ±5% of actual value\n",
        "def regression_accuracy(y_true, y_pred, tolerance=5):\n",
        "    within_tolerance = abs(y_true - y_pred) <= tolerance\n",
        "    return within_tolerance.sum() / len(y_true)\n",
        "\n",
        "train_acc = regression_accuracy(y_train, y_train_pred)\n",
        "test_acc = regression_accuracy(y_test, y_test_pred)\n",
        "\n",
        "print(f\" Training Accuracy (±5% tolerance): {train_acc * 100:.2f}%\")\n",
        "print(f\" Testing Accuracy  (±5% tolerance): {test_acc * 100:.2f}%\")\n",
        "\n"
      ],
      "metadata": {
        "colab": {
          "base_uri": "https://localhost:8080/"
        },
        "id": "twttxqxWKt02",
        "outputId": "37ae5696-2429-4a62-99b5-ff0f54397e17"
      },
      "execution_count": 3,
      "outputs": [
        {
          "output_type": "stream",
          "name": "stdout",
          "text": [
            " XGBoost Regressor Results\n",
            " Mean Absolute Error: 1.33\n",
            " R² Score: 0.9718\n",
            " Training Accuracy (±5% tolerance): 96.78%\n",
            " Testing Accuracy  (±5% tolerance): 94.60%\n"
          ]
        }
      ]
    },
    {
      "cell_type": "code",
      "source": [
        "!pip install catboost\n",
        "from catboost import CatBoostRegressor\n",
        "from sklearn.linear_model import LinearRegression\n",
        "from sklearn.metrics import mean_absolute_error, r2_score\n"
      ],
      "metadata": {
        "colab": {
          "base_uri": "https://localhost:8080/"
        },
        "id": "XZ1yec4LPRub",
        "outputId": "e4ef3146-e7d7-4471-af32-08a8e2d2a96f"
      },
      "execution_count": 4,
      "outputs": [
        {
          "output_type": "stream",
          "name": "stdout",
          "text": [
            "Collecting catboost\n",
            "  Downloading catboost-1.2.8-cp311-cp311-manylinux2014_x86_64.whl.metadata (1.2 kB)\n",
            "Requirement already satisfied: graphviz in /usr/local/lib/python3.11/dist-packages (from catboost) (0.20.3)\n",
            "Requirement already satisfied: matplotlib in /usr/local/lib/python3.11/dist-packages (from catboost) (3.10.0)\n",
            "Requirement already satisfied: numpy<3.0,>=1.16.0 in /usr/local/lib/python3.11/dist-packages (from catboost) (2.0.2)\n",
            "Requirement already satisfied: pandas>=0.24 in /usr/local/lib/python3.11/dist-packages (from catboost) (2.2.2)\n",
            "Requirement already satisfied: scipy in /usr/local/lib/python3.11/dist-packages (from catboost) (1.15.3)\n",
            "Requirement already satisfied: plotly in /usr/local/lib/python3.11/dist-packages (from catboost) (5.24.1)\n",
            "Requirement already satisfied: six in /usr/local/lib/python3.11/dist-packages (from catboost) (1.17.0)\n",
            "Requirement already satisfied: python-dateutil>=2.8.2 in /usr/local/lib/python3.11/dist-packages (from pandas>=0.24->catboost) (2.9.0.post0)\n",
            "Requirement already satisfied: pytz>=2020.1 in /usr/local/lib/python3.11/dist-packages (from pandas>=0.24->catboost) (2025.2)\n",
            "Requirement already satisfied: tzdata>=2022.7 in /usr/local/lib/python3.11/dist-packages (from pandas>=0.24->catboost) (2025.2)\n",
            "Requirement already satisfied: contourpy>=1.0.1 in /usr/local/lib/python3.11/dist-packages (from matplotlib->catboost) (1.3.2)\n",
            "Requirement already satisfied: cycler>=0.10 in /usr/local/lib/python3.11/dist-packages (from matplotlib->catboost) (0.12.1)\n",
            "Requirement already satisfied: fonttools>=4.22.0 in /usr/local/lib/python3.11/dist-packages (from matplotlib->catboost) (4.58.0)\n",
            "Requirement already satisfied: kiwisolver>=1.3.1 in /usr/local/lib/python3.11/dist-packages (from matplotlib->catboost) (1.4.8)\n",
            "Requirement already satisfied: packaging>=20.0 in /usr/local/lib/python3.11/dist-packages (from matplotlib->catboost) (24.2)\n",
            "Requirement already satisfied: pillow>=8 in /usr/local/lib/python3.11/dist-packages (from matplotlib->catboost) (11.2.1)\n",
            "Requirement already satisfied: pyparsing>=2.3.1 in /usr/local/lib/python3.11/dist-packages (from matplotlib->catboost) (3.2.3)\n",
            "Requirement already satisfied: tenacity>=6.2.0 in /usr/local/lib/python3.11/dist-packages (from plotly->catboost) (9.1.2)\n",
            "Downloading catboost-1.2.8-cp311-cp311-manylinux2014_x86_64.whl (99.2 MB)\n",
            "\u001b[2K   \u001b[90m━━━━━━━━━━━━━━━━━━━━━━━━━━━━━━━━━━━━━━━━\u001b[0m \u001b[32m99.2/99.2 MB\u001b[0m \u001b[31m8.3 MB/s\u001b[0m eta \u001b[36m0:00:00\u001b[0m\n",
            "\u001b[?25hInstalling collected packages: catboost\n",
            "Successfully installed catboost-1.2.8\n"
          ]
        }
      ]
    },
    {
      "cell_type": "code",
      "source": [
        "def regression_accuracy(y_true, y_pred, tolerance=5):\n",
        "    within_tolerance = abs(y_true - y_pred) <= tolerance\n",
        "    return within_tolerance.sum() / len(y_true)\n"
      ],
      "metadata": {
        "id": "HBg0GmftPa_w"
      },
      "execution_count": 5,
      "outputs": []
    },
    {
      "cell_type": "code",
      "source": [
        "# Train CatBoost Regressor\n",
        "cat_model = CatBoostRegressor(verbose=0)\n",
        "cat_model.fit(X_train, y_train)\n",
        "\n",
        "# Predict\n",
        "y_train_pred_cat = cat_model.predict(X_train)\n",
        "y_test_pred_cat = cat_model.predict(X_test)\n",
        "\n",
        "# Evaluation\n",
        "mae_cat = mean_absolute_error(y_test, y_test_pred_cat)\n",
        "r2_cat = r2_score(y_test, y_test_pred_cat)\n",
        "train_acc_cat = regression_accuracy(y_train, y_train_pred_cat)\n",
        "test_acc_cat = regression_accuracy(y_test, y_test_pred_cat)\n",
        "\n",
        "print(\" CatBoost Regressor Results\")\n",
        "print(f\" MAE: {mae_cat:.2f}\")\n",
        "print(f\" R²: {r2_cat:.4f}\")\n",
        "print(f\" Training Accuracy (±5%): {train_acc_cat * 100:.2f}%\")\n",
        "print(f\" Testing Accuracy  (±5%): {test_acc_cat * 100:.2f}%\\n\")\n"
      ],
      "metadata": {
        "colab": {
          "base_uri": "https://localhost:8080/"
        },
        "id": "3wSGAeaTPhCw",
        "outputId": "dadb21a8-f91a-4729-e810-5064d1ec5064"
      },
      "execution_count": 6,
      "outputs": [
        {
          "output_type": "stream",
          "name": "stdout",
          "text": [
            " CatBoost Regressor Results\n",
            " MAE: 2.04\n",
            " R²: 0.9607\n",
            " Training Accuracy (±5%): 92.85%\n",
            " Testing Accuracy  (±5%): 89.30%\n",
            "\n"
          ]
        }
      ]
    },
    {
      "cell_type": "code",
      "source": [
        "# Predict for one new patient (example: row 11)\n",
        "X = X.reset_index(drop=True)\n",
        "new_patient = X.iloc[181].values.reshape(1, -1)\n",
        "\n",
        "predicted_blockage = model.predict(new_patient)[0]\n",
        "\n",
        "def label_severity(blockage):\n",
        "    if blockage < 30: return 'Mild Blockage'\n",
        "    elif blockage < 70: return 'Moderate Blockage is Found'\n",
        "    else: return 'Severe CAD'\n",
        "\n",
        "predicted_severity = label_severity(predicted_blockage)\n",
        "\n",
        "print(\" Patient Risk Report\")\n",
        "print(f\" Predicted Blockage: {predicted_blockage:.2f}%\")\n",
        "print(f\" Severity Level: {predicted_severity}\")\n",
        "\n",
        "# Recommendation logic (fixed strings)\n",
        "if predicted_severity == 'Severe CAD':\n",
        "    print(\" High Risk: Immediate medical evaluation recommended.\")\n",
        "elif predicted_severity == 'Moderate Blockage is Found':\n",
        "    print(\" Moderate Risk: Further diagnostic tests advised.\")\n",
        "else:  # Mild\n",
        "    print(\" Low Risk: No immediate intervention needed.\")\n",
        "\n"
      ],
      "metadata": {
        "colab": {
          "base_uri": "https://localhost:8080/"
        },
        "id": "e1EC5QbRMqVE",
        "outputId": "8ed28583-09b2-4cda-cd58-c9058aa535c7"
      },
      "execution_count": 7,
      "outputs": [
        {
          "output_type": "stream",
          "name": "stdout",
          "text": [
            " Patient Risk Report\n",
            " Predicted Blockage: 49.61%\n",
            " Severity Level: Moderate Blockage is Found\n",
            " Moderate Risk: Further diagnostic tests advised.\n"
          ]
        }
      ]
    },
    {
      "cell_type": "code",
      "source": [
        "X = X.reset_index(drop=True)\n",
        "new_patient = X.iloc[551].values.reshape(1, -1)\n",
        "\n",
        "predicted_blockage = model.predict(new_patient)[0]\n",
        "\n",
        "def label_severity(blockage):\n",
        "    if blockage < 30: return 'Mild Blockage'\n",
        "    elif blockage < 70: return 'Moderate Blockage is Found'\n",
        "    else: return 'Severe CAD'\n",
        "\n",
        "predicted_severity = label_severity(predicted_blockage)\n",
        "\n",
        "print(\" Patient Risk Report\")\n",
        "print(f\" Predicted Blockage: {predicted_blockage:.2f}%\")\n",
        "print(f\" Severity Level: {predicted_severity}\")\n",
        "\n",
        "# Recommendation logic (fixed strings)\n",
        "if predicted_severity == 'Severe CAD':\n",
        "    print(\" High Risk: Immediate medical evaluation recommended.\")\n",
        "elif predicted_severity == 'Moderate Blockage is Found':\n",
        "    print(\" Moderate Risk: Further diagnostic tests advised.\")\n",
        "else:  # Mild\n",
        "    print(\" Low Risk: No immediate intervention needed.\")\n"
      ],
      "metadata": {
        "colab": {
          "base_uri": "https://localhost:8080/"
        },
        "id": "lx9kyqvweFEf",
        "outputId": "1f52dd08-f222-46be-bd31-1003967d6287"
      },
      "execution_count": 10,
      "outputs": [
        {
          "output_type": "stream",
          "name": "stdout",
          "text": [
            " Patient Risk Report\n",
            " Predicted Blockage: 13.97%\n",
            " Severity Level: Mild Blockage\n",
            " Low Risk: No immediate intervention needed.\n"
          ]
        }
      ]
    },
    {
      "cell_type": "code",
      "source": [
        "import matplotlib.pyplot as plt\n",
        "\n",
        "plt.figure(figsize=(6, 6))\n",
        "plt.scatter(y_test, y_pred, alpha=0.5, color='teal')\n",
        "plt.plot([10, 95], [10, 95], '--r')  # Ideal prediction line\n",
        "plt.xlabel(\"Actual Blockage (%)\")\n",
        "plt.ylabel(\"Predicted Blockage (%)\")\n",
        "plt.title(\"Actual vs Predicted Blockage (%)\")\n",
        "plt.grid(True)\n",
        "plt.tight_layout()\n",
        "plt.show()\n"
      ],
      "metadata": {
        "colab": {
          "base_uri": "https://localhost:8080/",
          "height": 607
        },
        "id": "gwa7E7D1es4K",
        "outputId": "907acfbb-b4c0-43e4-f907-327e608abefb"
      },
      "execution_count": 8,
      "outputs": [
        {
          "output_type": "display_data",
          "data": {
            "text/plain": [
              "<Figure size 600x600 with 1 Axes>"
            ],
            "image/png": "[encoded data removed]"
          },
          "metadata": {}
        }
      ]
    },
    {
      "cell_type": "code",
      "source": [
        "# import joblib\n",
        "# joblib.dump(model, \"cad_blockage_model.pkl\")\n",
        "# from google.colab import files\n",
        "# files.download('cad_blockage_model.pkl')\n"
      ],
      "metadata": {
        "id": "nEw90sx8Thvq"
      },
      "execution_count": 9,
      "outputs": []
    }
  ]
}